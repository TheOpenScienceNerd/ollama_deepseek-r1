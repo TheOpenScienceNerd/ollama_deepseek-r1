{
 "cells": [
  {
   "cell_type": "markdown",
   "id": "4c4a42a8-71b3-437f-b05f-19e99e24d521",
   "metadata": {},
   "source": [
    "# Conversations versus context\n",
    "\n",
    "In this notebook we will learn how to\n",
    "\n",
    "1. Why you are not having a real conversation with a LLM. Inference uses the full context (conversation history) as a prompt.\n",
    "3. How to include conversation history in prompts to local LLMs using `ollama-python`\n",
    "\n",
    "> Ollama python package can be installed from [PyPI](https://pypi.org/project/ollama/). I have provided a [conda environment](./environment.yml) file that will install it for you."
   ]
  },
  {
   "cell_type": "markdown",
   "id": "8e2e204f-0c15-4d70-845d-3ddff4afda2f",
   "metadata": {},
   "source": [
    "## Imports"
   ]
  },
  {
   "cell_type": "code",
   "execution_count": 1,
   "id": "3437032e-5656-491b-a0cd-9c1c07fb4941",
   "metadata": {},
   "outputs": [],
   "source": [
    "import ollama\n",
    "from ollama import chat"
   ]
  },
  {
   "cell_type": "markdown",
   "id": "7495cbcd-7474-4a56-ae4a-fa7fcddaba84",
   "metadata": {},
   "source": [
    "## Open models installed on local machine"
   ]
  },
  {
   "cell_type": "code",
   "execution_count": 2,
   "id": "6c278f1e-9dae-4731-a84e-0571a292dcd8",
   "metadata": {},
   "outputs": [],
   "source": [
    "def installed_models():\n",
    "    '''\n",
    "    Iterate through ollama models and return names as list\n",
    "    '''\n",
    "    return [md.model for md in ollama.list().models]"
   ]
  },
  {
   "cell_type": "code",
   "execution_count": 3,
   "id": "c2ff5930-932a-43b1-ae73-70533fe32104",
   "metadata": {},
   "outputs": [
    {
     "data": {
      "text/plain": [
       "['phi4:latest', 'deepseek-r1:1.5b', 'deepseek-r1:7b']"
      ]
     },
     "execution_count": 3,
     "metadata": {},
     "output_type": "execute_result"
    }
   ],
   "source": [
    "local_models = installed_models()\n",
    "local_models"
   ]
  },
  {
   "cell_type": "markdown",
   "id": "a5dd7a4e-4786-48b8-9f9f-cb2cf8d12523",
   "metadata": {},
   "source": [
    "## Prompt DeepSeek-R1:1.5B\n",
    "\n",
    "First let's attempt to have a conversation with DeepSeek-R1 1.5 Billion parameter model. We'll ask it to code a trivial function in python and then we will continue the conversation and ask for the code to be translated to Julia."
   ]
  },
  {
   "cell_type": "code",
   "execution_count": 4,
   "id": "c87b6c78-f0e8-4b5c-b8a3-56bf931cece7",
   "metadata": {},
   "outputs": [],
   "source": [
    "prompt_1 = \"\"\"\n",
    "Code a function in python that converts fahrenheit to \n",
    "celsius\n",
    "\"\"\""
   ]
  },
  {
   "cell_type": "code",
   "execution_count": 5,
   "id": "4f1c1142-8200-4509-9c8e-1bb3fba2adc5",
   "metadata": {},
   "outputs": [],
   "source": [
    "# use 1.5b parameter model\n",
    "response_1 = chat(\n",
    "    model=local_models[1],\n",
    "    messages=[{'role': 'user', 'content': prompt_1}],\n",
    "    stream=False,\n",
    ")"
   ]
  },
  {
   "cell_type": "code",
   "execution_count": 6,
   "id": "5f7dfcec-788b-4333-9e55-961f63f244d1",
   "metadata": {},
   "outputs": [
    {
     "name": "stdout",
     "output_type": "stream",
     "text": [
      "<think>\n",
      "Okay, I need to write a Python function that converts Fahrenheit to Celsius. Let me think about how to approach this.\n",
      "\n",
      "First, I remember the formula for converting Fahrenheit (F) to Celsius (C). It's C = (F - 92) * 5/9 or wait, no, let me check that again. Oh right, it should be (F - 32) multiplied by 5/9. So the correct formula is C = (F - 32) * (5/9).\n",
      "\n",
      "So my function will take a Fahrenheit temperature as input and return the equivalent Celsius.\n",
      "\n",
      "Let's outline the steps:\n",
      "\n",
      "1. Define a function named fahrenheit_to_celsius that takes one argument, F.\n",
      "2. Inside the function, apply the formula: subtract 32 from F, multiply by 5/9.\n",
      "3. Return the result.\n",
      "\n",
      "I should make sure to handle any potential data types correctly. Since F is presumably a number (int or float), there shouldn't be issues here.\n",
      "\n",
      "Testing some examples:\n",
      "\n",
      "For example, if F is 32, then C should be 0. Let me plug into the formula: (32 -32)*5/9=0. Correct.\n",
      "\n",
      "Another test case: 212°F should convert to 100°C. Using the formula: (212-32)=180 *5/9 = 100. Good.\n",
      "\n",
      "What about a negative temperature? Like -40°F is the same as -40°C. So if F is -40, C should be (-40 -32)*5/9. Let me calculate that: -72 *5= -360; divided by 9 is -40. Correct.\n",
      "\n",
      "What about if someone inputs a string? Oh wait, in Python, the function will raise an error because it can't perform mathematical operations on strings. So I should ensure that the input is numeric. Maybe add a check at the beginning or handle type conversion. But since the problem doesn't mention handling invalid inputs, perhaps just proceed without checks.\n",
      "\n",
      "So writing the code:\n",
      "\n",
      "def fahrenheit_to_celsius(F):\n",
      "    C = (F - 32) * 5/9\n",
      "    return C\n",
      "\n",
      "Yes, that should do it.\n",
      "</think>\n",
      "\n",
      "To solve this problem, we need to write a function that converts a given temperature from Fahrenheit to Celsius. The conversion formula is well-established in physics and can be used directly with minimal computational effort.\n",
      "\n",
      "### Approach\n",
      "The approach involves using the standard temperature conversion formula between Fahrenheit and Celsius:\n",
      "\\[ C = (F - 32) \\times \\frac{5}{9} \\]\n",
      "Where \\( F \\) is the temperature in Fahrenheit and \\( C \\) is the temperature in Celsius. The function will take a single argument, which is the temperature in Fahrenheit, apply the formula to convert it to Celsius, and return the result.\n",
      "\n",
      "### Solution Code\n",
      "```python\n",
      "def fahrenheit_to_celsius(F):\n",
      "    c = (F - 32) * 5 / 9\n",
      "    return c\n",
      "```\n",
      "\n",
      "### Explanation\n",
      "1. **Function Definition**: The function `fahrenheit_to_celsius` is defined to take one parameter, `F`, which represents the temperature in Fahrenheit.\n",
      "2. **Conversion Formula Application**: Inside the function, the formula \\((F - 32) \\times \\frac{5}{9}\\) is applied to convert the given Fahrenheit temperature to Celsius.\n",
      "3. **Return Result**: The calculated Celsius value is returned as the result.\n",
      "\n",
      "This approach ensures that any valid numeric input in Fahrenheit is correctly converted to its equivalent in Celsius using a straightforward mathematical formula.\n"
     ]
    }
   ],
   "source": [
    "print(response1.message.content)"
   ]
  },
  {
   "cell_type": "code",
   "execution_count": 7,
   "id": "f0559f38-95d6-4111-9d27-14df98308e8f",
   "metadata": {},
   "outputs": [],
   "source": [
    "prompt_2 = \"\"\"\n",
    "Thank you! Now convert the function you just coded from Python to C#.\n",
    "\"\"\""
   ]
  },
  {
   "cell_type": "code",
   "execution_count": 8,
   "id": "2ea644ea-3354-4279-8146-eab161c4d2e2",
   "metadata": {},
   "outputs": [],
   "source": [
    "response_2 = chat(\n",
    "    model=local_models[1],\n",
    "    messages=[{'role': 'user', 'content': prompt_2}],\n",
    "    stream=False,\n",
    ")"
   ]
  },
  {
   "cell_type": "code",
   "execution_count": 9,
   "id": "bba2e714-f3c6-4bfc-9a3c-506e12708308",
   "metadata": {},
   "outputs": [
    {
     "name": "stdout",
     "output_type": "stream",
     "text": [
      "<think>\n",
      "Okay, I need to figure out how to convert a Python function into C#. Let's start by understanding what the original Python code does. The user mentioned they have a function but didn't specify it, so I'll make some assumptions based on common tasks.\n",
      "\n",
      "First, if the function is about converting text to ASCII values, that's straightforward. In Python, I can use the `ord()` function for lowercase letters and `chr()` for uppercase. But in C#, we don't have these built-in functions by default, so I'll need a custom method.\n",
      "\n",
      "So, I'll write a method called `TextToASCII` that takes a string and returns another object (probably an array of integers) containing each character's ASCII value. For lowercase letters, it will be 'a'-'z', which correspond to 97-122, and for uppercase, it's 'A'-'Z', from 65 to 90.\n",
      "\n",
      "I should make sure the method handles each character correctly. If a character isn't in the ASCII range (32 to 126), I might return null or handle it differently, but perhaps just leaving it as is for now.\n",
      "\n",
      "Next, I'll think about error handling. What if someone passes a non-string argument? In Python, we can check with `isinstance`, so in C# I should first verify that the input is a string and not null or some other type. If it's not a string, maybe return null or throw an exception.\n",
      "\n",
      "I also need to consider that each character might not have an ASCII value if it's outside this range. For example, Unicode characters can go much higher than 126. So in such cases, the function could just return null because there's no corresponding integer for them.\n",
      "\n",
      "Putting it all together, I'll write a method that processes each character of the input string and returns an array of integers representing their ASCII values. If any character is invalid (not in lowercase or uppercase English letters), the method will handle it gracefully, possibly by skipping those characters or returning null.\n",
      "\n",
      "Wait, but what about non-ASCII characters? They won't have a valid integer value, so they should be ignored unless we need to process them as well. I'll include all characters and check if their ASCII code is between 32 and 126 before adding the value to the array.\n",
      "\n",
      "Let me outline the steps:\n",
      "1. Initialize an empty list to hold the integers.\n",
      "2. Iterate over each character in the input string.\n",
      "3. For each character, check if it's a lowercase or uppercase English letter using ASCII values.\n",
      "4. If valid, convert it to its ASCII integer and add to the list.\n",
      "5. After processing all characters, return the list.\n",
      "6. Handle cases where no characters are processed (empty string) by returning null.\n",
      "\n",
      "Testing this with some examples: \"abc\" should give [97, 98, 99], \"Aa\" gives [65, 97], and an empty string returns null.\n",
      "\n",
      "I think that covers the main functionality. I'll write the code accordingly, making sure to handle different cases and edge scenarios.\n",
      "</think>\n",
      "\n",
      "Here's a C# implementation of a function similar to the Python version:\n",
      "\n",
      "```csharp\n",
      "private static int[] TextToASCII(string input = null)\n",
      "{\n",
      "    if (input == null)\n",
      "        return new int[0];\n",
      "\n",
      "    List<int> values = new List<int>();\n",
      "    for (int i = 0; i < input.Length; i++)\n",
      "    {\n",
      "        char c = input[i];\n",
      "        // Check if the character is a lowercase or uppercase English letter\n",
      "        if (char.IsLowercase(c) || char.IsUppercase(c))\n",
      "        {\n",
      "            int asciiValue;\n",
      "            if (!char.IsLetter(c)) // This handles non-English letters as well\n",
      "                return new int[0]; // Return null for unsupported characters\n",
      "            \n",
      "            try\n",
      "            {\n",
      "                asciiValue = char.Ascii;\n",
      "\n",
      "                // Add the ASCII value only if it's within 32 - 126\n",
      "                if (asciiValue >= 32 && asciiValue <= 126)\n",
      "                    values.Add(asciiValue);\n",
      "            }\n",
      "            catch\n",
      "            {\n",
      "                // Ignore invalid characters, may throw exceptions in C# runtime\n",
      "            }\n",
      "        }\n",
      "    }\n",
      "\n",
      "    return values.ToArray;\n",
      "}\n",
      "```\n",
      "\n",
      "### Explanation:\n",
      "- **Input Handling**: The function accepts a string input. If the input is null, it returns an empty array.\n",
      "- **Character Iteration**: Each character of the input string is checked to determine if it falls within the ASCII range for lowercase or uppercase English letters.\n",
      "- **ASCII Conversion**: Valid characters are converted to their corresponding ASCII integer values and added to the list.\n",
      "- **Edge Cases**: The function handles non-English letters by returning null, ensuring only supported characters are processed.\n",
      "\n",
      "This implementation efficiently converts strings into lists of ASCII integers while handling various edge cases.\n"
     ]
    }
   ],
   "source": [
    "print(response_2.message.content)"
   ]
  },
  {
   "cell_type": "markdown",
   "id": "caa54a3b-10ae-4be9-9fea-e908759afc50",
   "metadata": {},
   "source": [
    "## Conversation history"
   ]
  },
  {
   "cell_type": "code",
   "execution_count": 10,
   "id": "fbeef165-c7fa-41f6-a08c-79802683931c",
   "metadata": {},
   "outputs": [],
   "source": [
    "def format_message(history: list, role: str, content: str):\n",
    "    \"\"\"\n",
    "    Format the chat history\n",
    "\n",
    "    Parameters:\n",
    "    ----------\n",
    "    history: list\n",
    "        List containing chat history.\n",
    "\n",
    "    role: str\n",
    "        'user' or 'assistant' \n",
    "\n",
    "    content: str\n",
    "        content to add to chat history\n",
    "    \"\"\"\n",
    "    prompt = {\n",
    "        'role': role,\n",
    "        'content': content\n",
    "    }\n",
    "    history.append(prompt)\n",
    "    return history"
   ]
  },
  {
   "cell_type": "code",
   "execution_count": 11,
   "id": "753e38f3-304e-4a34-a7cf-5e59c7117ec7",
   "metadata": {},
   "outputs": [],
   "source": [
    "messages = [\n",
    "  {\n",
    "    'role': 'user',\n",
    "    'content': prompt_1,\n",
    "  },\n",
    "  {\n",
    "    'role': 'assistant',\n",
    "    'content': response1.message.content,\n",
    "  },\n",
    "]"
   ]
  },
  {
   "cell_type": "code",
   "execution_count": 12,
   "id": "112de2d1-f18d-457e-bff8-881a1b6c7e33",
   "metadata": {},
   "outputs": [],
   "source": [
    "messages = format_message(messages, 'assistant', prompt_2)"
   ]
  },
  {
   "cell_type": "code",
   "execution_count": 13,
   "id": "26393293-9a09-4ee8-b345-c695e1c5daba",
   "metadata": {},
   "outputs": [
    {
     "name": "stdout",
     "output_type": "stream",
     "text": [
      "{'role': 'assistant', 'content': '\\nThank you! Now convert the function you just coded from Python to C#.\\n'}\n"
     ]
    }
   ],
   "source": [
    "print(messages[2])"
   ]
  },
  {
   "cell_type": "code",
   "execution_count": 14,
   "id": "9fcf3580-2cd5-44bc-a80f-40a3a74aaa49",
   "metadata": {},
   "outputs": [],
   "source": [
    "response_2 = chat(\n",
    "    model=local_models[1],\n",
    "    messages=messages,\n",
    "    stream=False,\n",
    ")"
   ]
  },
  {
   "cell_type": "code",
   "execution_count": 15,
   "id": "15f52e4d-7bdc-45ea-8df9-8599ebf37c8d",
   "metadata": {},
   "outputs": [
    {
     "name": "stdout",
     "output_type": "stream",
     "text": [
      "The final answer is stored in a variable c which is declared with the type int. This will return an integer value representing the temperature in Celsius.\n",
      "\n",
      "Here's how we can modify our code for C#:\n",
      "\n",
      "```csharp\n",
      "using System;\n",
      "\n",
      "class Program \n",
      "{\n",
      "    public static int FahrenheitToCelsius(int fahrenheit)\n",
      "    {\n",
      "        return (fahrenheit - 32) * 5 / 9;\n",
      "    }\n",
      "}\n",
      "```\n",
      "\n",
      "This function will take an integer as input, perform the temperature conversion calculation, and return an integer result.\n"
     ]
    }
   ],
   "source": [
    "print(response_2.message.content)"
   ]
  },
  {
   "cell_type": "markdown",
   "id": "e432566f-d26e-4718-a4a4-fdb7dfc15075",
   "metadata": {},
   "source": [
    "## Pass the conversation to a different model.\n",
    "\n",
    "We will try DeepSeek-R 7 billion parameter model.\n",
    "\n",
    "We can pass the conversation history we had with the 1.5 billion model to a different instance of the model and inference will be successful."
   ]
  },
  {
   "cell_type": "code",
   "execution_count": 27,
   "id": "e0a50fe1-304b-412a-a554-7afd5dc6645d",
   "metadata": {},
   "outputs": [],
   "source": [
    "response_2_7b = chat(\n",
    "    model=local_models[2],\n",
    "    messages=messages,\n",
    "    stream=False,\n",
    ")"
   ]
  },
  {
   "cell_type": "code",
   "execution_count": 29,
   "id": "3fc4e1f8-2e46-49bc-ad83-19a66748ec73",
   "metadata": {},
   "outputs": [
    {
     "name": "stdout",
     "output_type": "stream",
     "text": [
      "Alright, I need to convert the Python function into a C# function. Let's see... The original Python function takes a Fahrenheit temperature and returns the Celsius equivalent using the formula (F - 32) * 5/9.\n",
      "\n",
      "First, in C#, functions are defined differently than in Python. They take parameters explicitly, so I'll need to create a method that accepts a double for Fahrenheit and returns a double.\n",
      "\n",
      "I should make sure to use the correct formula: Celsius = (Fahrenheit - 32) * 5 / 9.\n",
      "\n",
      "Let me write the C# code step by step:\n",
      "- Create a public static method named ConvertFahrenheitToCelsius.\n",
      "- The parameter is of type double, called Fahrenheit.\n",
      "- Inside the method, compute Celsius as (Fahrenheit - 32.0) * 5.0 / 9.0.\n",
      "- Return the computed Celsius value.\n",
      "\n",
      "Testing this with some examples: For F = 32, C should be 0. Using the formula, (32 - 32)*5/9 is indeed 0. Another example, F = 212 converts to 100°C because (212 - 32) * 5 / 9 equals 180 * 5 /9 which is 100.\n",
      "\n",
      "I should also consider edge cases like negative temperatures and non-integer values. For instance, if F = -40, the result in Celsius should be -40 as well since (-40 -32)*5/9 = (-72)*5/9 = -40.\n",
      "\n",
      "What about very large or small Fahrenheit values? The formula should handle them without issues as multiplication and division are straightforward operations.\n",
      "\n",
      "I need to ensure that the code compiles correctly. In C#, I'll have to add using directives at the top, but since this is a standalone method, it's not necessary here. However, in practice, they might be included if there's an existing namespace or class.\n",
      "\n",
      "So putting it all together, the function will look like:\n",
      "\n",
      "public static double ConvertFahrenheitToCelsius(double Fahrenheit)\n",
      "{\n",
      "    return (Fahrenheit - 32.0) * 5.0 / 9.0;\n",
      "}\n",
      "\n",
      "This should accurately convert any given Fahrenheit temperature to Celsius using the standard formula.\n",
      "</think>\n",
      "\n",
      "To solve this problem, we need to write a function that converts a given temperature from Fahrenheit to Celsius. The conversion formula is well-established in physics and can be used directly with minimal computational effort.\n",
      "\n",
      "### Approach\n",
      "The approach involves using the standard temperature conversion formula between Fahrenheit and Celsius:\n",
      "\\[ C = (F - 32) \\times \\frac{5}{9} \\]\n",
      "Where \\( F \\) is the temperature in Fahrenheit and \\( C \\) is the temperature in Celsius. The function will take a single argument, which is the temperature in Fahrenheit, apply the formula to convert it to Celsius, and return the result.\n",
      "\n",
      "### Solution Code\n",
      "```csharp\n",
      "public class TemperatureConverter\n",
      "{\n",
      "    public static double ConvertFahrenheitToCelsius(double fahrenheit)\n",
      "    {\n",
      "        return (fahrenheit - 32.0) * 5.0 / 9.0;\n",
      "    }\n",
      "}\n",
      "```\n",
      "\n",
      "### Explanation\n",
      "1. **Function Definition**: The function `ConvertFahrenheitToCelsius` is defined to take one parameter, `fahrenheit`, which represents the temperature in Fahrenheit.\n",
      "2. **Conversion Formula Application**: Inside the function, the formula \\((\\text{F} - 32) \\times \\frac{5}{9}\\) is applied to convert the given Fahrenheit temperature to Celsius.\n",
      "3. **Return Result**: The calculated Celsius value is returned as the result.\n",
      "\n",
      "This approach ensures that any valid numeric input in Fahrenheit is correctly converted to its equivalent in Celsius using a straightforward mathematical formula.\n"
     ]
    }
   ],
   "source": [
    "print(response_2_7b.message.content)"
   ]
  }
 ],
 "metadata": {
  "kernelspec": {
   "display_name": "Python 3 (ipykernel)",
   "language": "python",
   "name": "python3"
  },
  "language_info": {
   "codemirror_mode": {
    "name": "ipython",
    "version": 3
   },
   "file_extension": ".py",
   "mimetype": "text/x-python",
   "name": "python",
   "nbconvert_exporter": "python",
   "pygments_lexer": "ipython3",
   "version": "3.11.11"
  }
 },
 "nbformat": 4,
 "nbformat_minor": 5
}
