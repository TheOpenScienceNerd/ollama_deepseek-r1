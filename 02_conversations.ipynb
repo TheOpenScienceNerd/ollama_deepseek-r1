{
 "cells": [
  {
   "cell_type": "markdown",
   "id": "4c4a42a8-71b3-437f-b05f-19e99e24d521",
   "metadata": {},
   "source": [
    "# Conversations versus context\n",
    "\n",
    "In this notebook we will learn how to\n",
    "\n",
    "1. Why you are not having a real conversation with a LLM.\n",
    "2. How to include conversation history in prompts to local LLMs using `ollama-python`\n",
    "\n",
    "> Ollama python package can be installed from [PyPI](https://pypi.org/project/ollama/). I have provided a [conda environment](./environment.yml) file that will install it for you."
   ]
  },
  {
   "cell_type": "markdown",
   "id": "8e2e204f-0c15-4d70-845d-3ddff4afda2f",
   "metadata": {},
   "source": [
    "## Imports"
   ]
  },
  {
   "cell_type": "code",
   "execution_count": 1,
   "id": "3437032e-5656-491b-a0cd-9c1c07fb4941",
   "metadata": {},
   "outputs": [],
   "source": [
    "import ollama\n",
    "from ollama import chat"
   ]
  },
  {
   "cell_type": "markdown",
   "id": "7495cbcd-7474-4a56-ae4a-fa7fcddaba84",
   "metadata": {},
   "source": [
    "## Open models installed on local machine"
   ]
  },
  {
   "cell_type": "code",
   "execution_count": 2,
   "id": "6c278f1e-9dae-4731-a84e-0571a292dcd8",
   "metadata": {},
   "outputs": [],
   "source": [
    "def installed_models():\n",
    "    '''\n",
    "    Iterate through ollama models and return names as list\n",
    "    '''\n",
    "    return [md.model for md in ollama.list().models]"
   ]
  },
  {
   "cell_type": "code",
   "execution_count": 3,
   "id": "c2ff5930-932a-43b1-ae73-70533fe32104",
   "metadata": {},
   "outputs": [
    {
     "data": {
      "text/plain": [
       "['deepseek-r1:1.5b', 'deepseek-r1:7b']"
      ]
     },
     "execution_count": 3,
     "metadata": {},
     "output_type": "execute_result"
    }
   ],
   "source": [
    "local_models = installed_models()\n",
    "local_models"
   ]
  },
  {
   "cell_type": "markdown",
   "id": "a5dd7a4e-4786-48b8-9f9f-cb2cf8d12523",
   "metadata": {},
   "source": [
    "## Chat Responses from a model"
   ]
  },
  {
   "cell_type": "code",
   "execution_count": 4,
   "id": "c87b6c78-f0e8-4b5c-b8a3-56bf931cece7",
   "metadata": {},
   "outputs": [],
   "source": [
    "prompt_1 = \"\"\"\n",
    "Code a function in python that converts fahrenheit to \n",
    "celsius\n",
    "\"\"\""
   ]
  },
  {
   "cell_type": "code",
   "execution_count": 9,
   "id": "4f1c1142-8200-4509-9c8e-1bb3fba2adc5",
   "metadata": {},
   "outputs": [],
   "source": [
    "# use 1.5b parameter model\n",
    "response1 = chat(\n",
    "    model=local_models[0],\n",
    "    messages=[{'role': 'user', 'content': prompt_1}],\n",
    "    stream=False,\n",
    ")"
   ]
  },
  {
   "cell_type": "code",
   "execution_count": 10,
   "id": "5f7dfcec-788b-4333-9e55-961f63f244d1",
   "metadata": {},
   "outputs": [
    {
     "name": "stdout",
     "output_type": "stream",
     "text": [
      "<think>\n",
      "Okay, I need to write a Python function that converts Fahrenheit to Celsius. Let me think about how to approach this.\n",
      "\n",
      "First, I remember the formula for converting Fahrenheit to Celsius is (F - 9) × 5/9 = C. So the steps are: take the input temperature in Fahrenheit, subtract 32 from it, multiply by 5, then divide by 9.\n",
      "\n",
      "Wait, no, wait. Let me double-check. The correct formula is (°F - 32) multiplied by 5/9 to get Celsius. Yeah, I got that right earlier.\n",
      "\n",
      "So the function should take one argument, which is the Fahrenheit temperature. Then apply this formula and return the result as a float or an integer? Hmm, the problem doesn't specify, so maybe returning a float is fine.\n",
      "\n",
      "I'll name the function something like fahrenheit_to_celsius. Let's call it def fahrenheit_to_celsius(fahrenheit): \n",
      "\n",
      "Inside the function, I'll take the input, subtract 32, multiply by 5/9. Return the result.\n",
      "\n",
      "Wait, what about handling cases where the input is a list or another data type? Well, since Fahrenheit is typically a number, but if someone passes something else, it might cause an error. But maybe the function should handle that gracefully, perhaps return None or raise a TypeError. Hmm, not sure if I need to consider that here.\n",
      "\n",
      "Let me test with some examples. For example, 32°F should be 0°C. Plugging into the formula: (32 -32) *5/9 = 0, correct. Another example: 100°F is 40°C? Let's see: (100-32)=68 *5=340 /9 ≈ 37.777... Wait no, wait that can't be right because I think I might have confused the formula.\n",
      "\n",
      "Wait wait, hold on! No, sorry, I mixed up something. Let me recalculate: (°F -32) × 5/9 = °C. So for 100°F: 100-32=68 *5=340 /9 ≈ 37.777°C? Wait, no! No, wait that's not correct because I think I made a mistake in the example. Let me check online—wait, what is 100°F in Celsius?\n",
      "\n",
      "Oh right, 100°F is approximately 26.804°C. So maybe my initial test case was wrong. But regardless, the formula is (°F -32) ×5/9.\n",
      "\n",
      "So for example:\n",
      "\n",
      "If someone passes 32, returns 0.\n",
      "\n",
      "Passes 50: 18 *5=90 /9=10, so 10°C.\n",
      "\n",
      "Wait, that's correct because 50°F is about 10°C. Right.\n",
      "\n",
      "Another test case: What about -40? Both scales should be equal. Let me see: (-40-32) = -72 *5/9 = -40. So yes, the function returns correctly.\n",
      "\n",
      "So I think my approach is solid.\n",
      "\n",
      "Now, writing the code:\n",
      "\n",
      "def fahrenheit_to_celsius(fahrenheit):\n",
      "    celsius = (fahrenheit - 32) * 5 / 9\n",
      "    return celsius\n",
      "\n",
      "That should do it.\n",
      "</think>\n",
      "\n",
      "To solve this problem, we need to create a function that converts temperatures from Fahrenheit to Celsius. The formula for converting Fahrenheit to Celsius is well-established and can be directly implemented.\n",
      "\n",
      "### Approach\n",
      "The approach involves using the standard temperature conversion formula:\n",
      "\\[ C = (F - 32) \\times \\frac{5}{9} \\]\n",
      "where \\( F \\) is the temperature in Fahrenheit and \\( C \\) is the temperature in Celsius. The function will take a single argument, the temperature in Fahrenheit, apply this formula, and return the result.\n",
      "\n",
      "### Solution Code\n",
      "```python\n",
      "def fahrenheit_to_celsius(fahrenheit):\n",
      "    celsius = (fahrenheit - 32) * 5 / 9\n",
      "    return celsius\n",
      "```\n",
      "\n",
      "### Explanation\n",
      "1. **Function Definition**: The function `fahrenheit_to_celsius` is defined to take one parameter, `fahrenheit`, which represents the temperature in Fahrenheit.\n",
      "2. **Conversion Formula**: Inside the function, we apply the formula `(fahrenheit - 32) * 5 / 9` to convert the given Fahrenheit temperature to Celsius.\n",
      "3. **Return Result**: The computed Celsius value is returned as the result.\n",
      "\n",
      "This approach ensures accurate conversion from Fahrenheit to Celsius using a straightforward mathematical operation, which can be easily implemented in Python.\n"
     ]
    }
   ],
   "source": [
    "print(response1.message.content)"
   ]
  },
  {
   "cell_type": "code",
   "execution_count": 34,
   "id": "f0559f38-95d6-4111-9d27-14df98308e8f",
   "metadata": {},
   "outputs": [],
   "source": [
    "prompt_2 = \"\"\"\n",
    "Convert the function you just coded from Python to C#.\n",
    "\"\"\""
   ]
  },
  {
   "cell_type": "code",
   "execution_count": 12,
   "id": "2ea644ea-3354-4279-8146-eab161c4d2e2",
   "metadata": {},
   "outputs": [],
   "source": [
    "response_2 = chat(\n",
    "    model=local_models[0],\n",
    "    messages=[{'role': 'user', 'content': prompt_2}],\n",
    "    stream=False,\n",
    ")"
   ]
  },
  {
   "cell_type": "code",
   "execution_count": 13,
   "id": "bba2e714-f3c6-4bfc-9a3c-506e12708308",
   "metadata": {},
   "outputs": [
    {
     "name": "stdout",
     "output_type": "stream",
     "text": [
      "<think>\n",
      "Okay, so I need to convert a Python function I wrote into Rust. Let me think about how to approach this. First, I should probably write out what my Python code does because without knowing that, it's hard to translate accurately.\n",
      "\n",
      "Let me take an example. Suppose the Python function is a simple addition: def add(a, b): return a + b. Now, translating this into Rust would require replacing the function signature with a similar one but using Rust's syntax and features.\n",
      "\n",
      "Wait, but adding two numbers in Rust can be done just by taking two arguments of type i32 or u32 and returning their sum. So, maybe I should write something like:\n",
      "\n",
      "fn add(a: i32, b: i32) -> i32 {\n",
      "    a + b\n",
      "}\n",
      "\n",
      "That makes sense. But what about different data types? If the original function uses integers, but in Rust, we have to be careful with integer overflow because of signedness.\n",
      "\n",
      "Alternatively, maybe I should create a more general add function that can handle various numeric types as long as they support addition without any issues. That way, if someone wants to add two unsigned 64-bit integers or something else, it still works.\n",
      "\n",
      "Wait, but in Rust, we don't have optional types for generics like Python's @param. So, the function would need to be generic and type-hinted. I can use #[ generalize ] or #[derive(Debug) ] tags if needed.\n",
      "\n",
      "Let me structure my plan:\n",
      "\n",
      "1. Identify the original Python function's name and functionality.\n",
      "2. Determine what operations are being performed in Python.\n",
      "3. Map each operation to Rust equivalents, considering data types, variables, etc.\n",
      "4. Handle any specific features of Python that don't have direct Rust counterparts, like @param or optional types.\n",
      "\n",
      "Wait, but for simplicity, maybe I'll just start with a basic function and build from there, then add more features if needed later.\n",
      "\n",
      "So, putting it all together, the thought process is clear: translate each part step by step, ensuring that variables are correctly named and operations are accurately translated.\n",
      "</think>\n",
      "\n",
      "To convert the Python function `def add(a, b): return a + b` to Rust, follow these steps:\n",
      "\n",
      "1. **Identify the Function**: The function takes two integers as parameters and returns their sum.\n",
      "\n",
      "2. **Translate Operations**:\n",
      "   - Use `fn` instead of `def`.\n",
      "   - Use `i32` for integer variables if working with 32-bit integers.\n",
      "   - Return type `i32`.\n",
      "\n",
      "3. **Rust Code**:\n",
      "\n",
      "```rust\n",
      "#[derive(Debug)]\n",
      "pub fn add(a: i32, b: i32) -> i32 {\n",
      "    a + b\n",
      "}\n",
      "```\n",
      "\n",
      "This Rust function is equivalent to the Python version for adding two integers.\n"
     ]
    }
   ],
   "source": [
    "print(response_2.message.content)"
   ]
  },
  {
   "cell_type": "markdown",
   "id": "caa54a3b-10ae-4be9-9fea-e908759afc50",
   "metadata": {},
   "source": [
    "## Conversation history"
   ]
  },
  {
   "cell_type": "code",
   "execution_count": 35,
   "id": "fbeef165-c7fa-41f6-a08c-79802683931c",
   "metadata": {},
   "outputs": [],
   "source": [
    "def format_message(history: list, role: str, content: str):\n",
    "    \"\"\"\n",
    "    Format the chat history\n",
    "\n",
    "    Parameters:\n",
    "    ----------\n",
    "    history: list\n",
    "        List containing chat history.\n",
    "\n",
    "    role: str\n",
    "        'user' or 'assistant' \n",
    "\n",
    "    content: str\n",
    "        content to add to chat history\n",
    "    \"\"\"\n",
    "    prompt = {\n",
    "        'role': role,\n",
    "        'content': content\n",
    "    }\n",
    "    history.append(prompt)\n",
    "    return history"
   ]
  },
  {
   "cell_type": "code",
   "execution_count": 36,
   "id": "753e38f3-304e-4a34-a7cf-5e59c7117ec7",
   "metadata": {},
   "outputs": [],
   "source": [
    "messages = [\n",
    "  {\n",
    "    'role': 'user',\n",
    "    'content': prompt_1,\n",
    "  },\n",
    "  {\n",
    "    'role': 'assistant',\n",
    "    'content': response1.message.content,\n",
    "  },\n",
    "]"
   ]
  },
  {
   "cell_type": "code",
   "execution_count": 37,
   "id": "112de2d1-f18d-457e-bff8-881a1b6c7e33",
   "metadata": {},
   "outputs": [],
   "source": [
    "messages = format_message(messages, 'assistant', prompt_2)"
   ]
  },
  {
   "cell_type": "code",
   "execution_count": 38,
   "id": "26393293-9a09-4ee8-b345-c695e1c5daba",
   "metadata": {},
   "outputs": [
    {
     "name": "stdout",
     "output_type": "stream",
     "text": [
      "{'role': 'assistant', 'content': '\\nConvert the function you just coded from Python to C#.\\n'}\n"
     ]
    }
   ],
   "source": [
    "print(messages[2])"
   ]
  },
  {
   "cell_type": "code",
   "execution_count": 39,
   "id": "9fcf3580-2cd5-44bc-a80f-40a3a74aaa49",
   "metadata": {},
   "outputs": [],
   "source": [
    "response_2 = chat(\n",
    "    model=local_models[0],\n",
    "    messages=messages,\n",
    "    stream=False,\n",
    ")"
   ]
  },
  {
   "cell_type": "code",
   "execution_count": 40,
   "id": "15f52e4d-7bdc-45ea-8df9-8599ebf37c8d",
   "metadata": {},
   "outputs": [
    {
     "name": "stdout",
     "output_type": "stream",
     "text": [
      "The code:\n",
      "```csharp\n",
      "using System;\n",
      "\n",
      "class Program\n",
      "{\n",
      "    public static double FahrenheitToCelsius(double fahrenheit)\n",
      "    {\n",
      "        return (fahrenheit - 32) * 5.0 / 9;\n",
      "    }\n",
      "}\n",
      "```\n",
      "\n",
      "### Explanation of the C# Code\n",
      "1. **Class Definition**: The code defines a class `Program` with a static method `FahrenheitToCelsius`.\n",
      "2. **Method Definition**: The method takes a single parameter, `fahrenheit`, which is a double-precision floating-point number.\n",
      "3. **Conversion Formula**: Inside the method, the formula `(fahrenheit - 32) * 5.0 / 9` is used to convert Fahrenheit to Celsius. This formula ensures accurate conversion by using floating-point arithmetic.\n",
      "4. **Return Statement**: The result of the computation is returned as a double-precision value.\n",
      "\n",
      "This C# implementation accurately converts temperatures from Fahrenheit to Celsius, leveraging standard mathematical operations and data types for precision.\n"
     ]
    }
   ],
   "source": [
    "print(response_2.message.content)"
   ]
  },
  {
   "cell_type": "markdown",
   "id": "e432566f-d26e-4718-a4a4-fdb7dfc15075",
   "metadata": {},
   "source": [
    "## Pass the conversation to a different model.\n",
    "\n",
    "We will try Phi4 14B parameter model from Microsoft.\n",
    "\n",
    "We can pass the same conversation history and the LLM won't care. This is because it is just predicting the next word."
   ]
  },
  {
   "cell_type": "code",
   "execution_count": 41,
   "id": "e0a50fe1-304b-412a-a554-7afd5dc6645d",
   "metadata": {},
   "outputs": [],
   "source": [
    "response_2_phi4 = chat(\n",
    "    model=local_models[1],\n",
    "    messages=messages,\n",
    "    stream=False,\n",
    ")"
   ]
  },
  {
   "cell_type": "code",
   "execution_count": 42,
   "id": "3fc4e1f8-2e46-49bc-ad83-19a66748ec73",
   "metadata": {},
   "outputs": [
    {
     "name": "stdout",
     "output_type": "stream",
     "text": [
      "Okay, so I need to convert the Python function that converts Fahrenheit to Celsius into C#. Let me think about how to do this step by step.\n",
      "\n",
      "First, I remember the formula: (Fahrenheit - 32) * 5/9 gives Celsius. So in C#, the code should be straightforward.\n",
      "\n",
      "In Python, it's written as:\n",
      "def fahrenheit_to_celsius(fahrenheit):\n",
      "    celsius = (fahrenheit - 32) * 5 / 9\n",
      "    return celsius\n",
      "\n",
      "But in C#, I can't use functions like that; instead, I'll need to compute the value directly. Also, since C# is a statically typed language, I should consider whether to convert fahrenheit to an integer or keep it as a double.\n",
      "\n",
      "The original function returns a float because Fahrenheit can be any number, including decimals. So in C#, we'll make sure to handle floating-point division correctly.\n",
      "\n",
      "So the code would look like this:\n",
      "\n",
      "public static double FahrenheitToCelsius(double fahrenheit)\n",
      "{\n",
      "    return (fahrenheit - 32) * 5 / 9;\n",
      "}\n",
      "\n",
      "Wait, but multiplication and division have higher precedence than subtraction, so I should ensure that the operations are grouped correctly. However, in C#, operator precedence is such that subtraction happens before multiplication and division, which matches our formula.\n",
      "\n",
      "So this function takes a double fahrenheit, subtracts 32 from it, multiplies by 5, then divides by 9, returning the result as a double.\n",
      "\n",
      "I think that's all. Let me test it with some examples to make sure.\n",
      "</think>\n",
      "\n",
      "To solve this problem, we need to create a function in C# that converts temperatures from Fahrenheit to Celsius using a well-known formula. This involves taking an input temperature in Fahrenheit and applying the conversion formula to return the result in Celsius.\n",
      "\n",
      "### Approach\n",
      "The approach is straightforward as it uses the standard formula for converting Fahrenheit to Celsius:\n",
      "\\[ C = (F - 32) \\times \\frac{5}{9} \\]\n",
      "where \\( F \\) is the temperature in Fahrenheit, and \\( C \\) is the temperature in Celsius. The function will take a single parameter of type `double`, apply this formula, and return the result as a double.\n",
      "\n",
      "### Solution Code\n",
      "\n",
      "```csharp\n",
      "public static double FahrenheitToCelsius(double fahrenheit)\n",
      "{\n",
      "    return (fahrenheit - 32) * 5 / 9;\n",
      "}\n",
      "```\n",
      "\n",
      "### Explanation\n",
      "1. **Function Definition**: The function `FahrenheitToCelsius` is defined to take a single parameter, `fahrenheit`, which represents the temperature in Fahrenheit.\n",
      "2. **Conversion Formula**: Inside the function, we apply the formula `(fahrenheit - 32) * 5 / 9` to convert the given Fahrenheit temperature to Celsius.\n",
      "3. **Return Result**: The computed Celsius value is returned as a double.\n",
      "\n",
      "This approach ensures accurate conversion from Fahrenheit to Celsius using a straightforward mathematical operation, which can be easily implemented in C#.\n"
     ]
    }
   ],
   "source": [
    "print(response_2_phi4.message.content)"
   ]
  }
 ],
 "metadata": {
  "kernelspec": {
   "display_name": "Python 3 (ipykernel)",
   "language": "python",
   "name": "python3"
  },
  "language_info": {
   "codemirror_mode": {
    "name": "ipython",
    "version": 3
   },
   "file_extension": ".py",
   "mimetype": "text/x-python",
   "name": "python",
   "nbconvert_exporter": "python",
   "pygments_lexer": "ipython3",
   "version": "3.11.11"
  }
 },
 "nbformat": 4,
 "nbformat_minor": 5
}
